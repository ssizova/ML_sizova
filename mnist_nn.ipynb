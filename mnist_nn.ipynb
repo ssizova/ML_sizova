{
 "cells": [
  {
   "cell_type": "markdown",
   "metadata": {},
   "source": [
    "# MNIST Classification"
   ]
  },
  {
   "cell_type": "code",
   "execution_count": 1,
   "metadata": {},
   "outputs": [],
   "source": [
    "import datetime\n",
    "import tensorflow as tf\n",
    "import cv2\n",
    "import random\n",
    "import numpy as np\n",
    "from scipy import ndimage\n",
    "import matplotlib.pyplot as plt\n",
    "from keras.models import Model\n",
    "from keras.utils import to_categorical\n",
    "from keras.utils.vis_utils import plot_model\n",
    "from keras.layers import Dense, Conv2D, Input, Flatten, MaxPool2D, Dropout\n",
    "from keras.datasets import mnist"
   ]
  },
  {
   "cell_type": "code",
   "execution_count": 2,
   "metadata": {},
   "outputs": [
    {
     "data": {
      "image/png": "[encoded data removed]",
      "text/plain": [
       "<Figure size 1080x72 with 15 Axes>"
      ]
     },
     "metadata": {
      "needs_background": "light"
     },
     "output_type": "display_data"
    },
    {
     "name": "stdout",
     "output_type": "stream",
     "text": [
      "Train: (60000, 28, 28) (60000, 1)\n",
      "Test: (10000, 28, 28) (10000, 1)\n"
     ]
    }
   ],
   "source": [
    "(x_train, y_train),(x_test, y_test) = mnist.load_data()\n",
    "plt.figure(figsize=(15, 1))\n",
    "for i in range(15):\n",
    "    plt.subplot(1, 15, i+1)\n",
    "    plt.imshow(x_train[i])\n",
    "    plt.title(y_train[i])\n",
    "plt.show()\n",
    "y_train = np.expand_dims(y_train, -1)\n",
    "y_test = np.expand_dims(y_test, -1)\n",
    "print('Train:', x_train.shape, y_train.shape)\n",
    "print('Test:', x_test.shape, y_test.shape)"
   ]
  },
  {
   "cell_type": "code",
   "execution_count": 4,
   "metadata": {},
   "outputs": [],
   "source": [
    "def create_model(inp):\n",
    "    layer = Conv2D(filters=8, kernel_size=(3, 3), padding='same')(inp)\n",
    "    layer = MaxPool2D(pool_size=(2, 2))(layer)\n",
    "    layer = Conv2D(filters=16, kernel_size=(3, 3), padding='same')(layer)\n",
    "    layer = Flatten()(layer)\n",
    "    layer = Dense(units=128)(layer)\n",
    "    layer = Dropout(0.2)(layer)\n",
    "    out = Dense(units=10, activation='softmax')(layer)\n",
    "    return out"
   ]
  },
  {
   "cell_type": "code",
   "execution_count": 19,
   "metadata": {},
   "outputs": [
    {
     "name": "stdout",
     "output_type": "stream",
     "text": [
      "(60000, 10)\n",
      "Model: \"functional_15\"\n",
      "_________________________________________________________________\n",
      "Layer (type)                 Output Shape              Param #   \n",
      "=================================================================\n",
      "input_3 (InputLayer)         [(None, 28, 28, 1)]       0         \n",
      "_________________________________________________________________\n",
      "conv2d_9 (Conv2D)            (None, 28, 28, 8)         80        \n",
      "_________________________________________________________________\n",
      "max_pooling2d_4 (MaxPooling2 (None, 14, 14, 8)         0         \n",
      "_________________________________________________________________\n",
      "conv2d_10 (Conv2D)           (None, 14, 14, 16)        1168      \n",
      "_________________________________________________________________\n",
      "flatten_7 (Flatten)          (None, 3136)              0         \n",
      "_________________________________________________________________\n",
      "dense_14 (Dense)             (None, 128)               401536    \n",
      "_________________________________________________________________\n",
      "dropout_2 (Dropout)          (None, 128)               0         \n",
      "_________________________________________________________________\n",
      "dense_15 (Dense)             (None, 10)                1290      \n",
      "=================================================================\n",
      "Total params: 404,074\n",
      "Trainable params: 404,074\n",
      "Non-trainable params: 0\n",
      "_________________________________________________________________\n",
      "Epoch 1/10\n",
      "   2/2143 [..............................] - ETA: 9:38 - loss: 2.2310 - accuracy: 0.2679WARNING:tensorflow:Callbacks method `on_train_batch_end` is slow compared to the batch time (batch time: 0.0080s vs `on_train_batch_end` time: 0.5338s). Check your callbacks.\n",
      "2143/2143 [==============================] - 17s 8ms/step - loss: 0.2095 - accuracy: 0.9372 - val_loss: 6.7588 - val_accuracy: 0.1135\n",
      "Epoch 2/10\n",
      "2143/2143 [==============================] - 20s 9ms/step - loss: 0.1093 - accuracy: 0.9669 - val_loss: 10.3716 - val_accuracy: 0.1135\n",
      "Epoch 3/10\n",
      "2143/2143 [==============================] - 19s 9ms/step - loss: 0.0953 - accuracy: 0.9705 - val_loss: 10.0908 - val_accuracy: 0.1135\n",
      "Epoch 4/10\n",
      "2143/2143 [==============================] - 19s 9ms/step - loss: 0.0862 - accuracy: 0.9739 - val_loss: 12.5222 - val_accuracy: 0.1135\n",
      "Epoch 5/10\n",
      "2143/2143 [==============================] - 19s 9ms/step - loss: 0.0792 - accuracy: 0.9755 - val_loss: 11.0860 - val_accuracy: 0.1135\n",
      "Epoch 6/10\n",
      "2143/2143 [==============================] - 19s 9ms/step - loss: 0.0733 - accuracy: 0.9767 - val_loss: 11.3381 - val_accuracy: 0.1135\n",
      "Epoch 7/10\n",
      "2143/2143 [==============================] - 19s 9ms/step - loss: 0.0717 - accuracy: 0.9767 - val_loss: 14.2929 - val_accuracy: 0.1135\n",
      "Epoch 8/10\n",
      "2143/2143 [==============================] - 19s 9ms/step - loss: 0.0690 - accuracy: 0.9777 - val_loss: 12.9938 - val_accuracy: 0.1135\n",
      "Epoch 9/10\n",
      "2143/2143 [==============================] - 19s 9ms/step - loss: 0.0643 - accuracy: 0.9797 - val_loss: 15.0239 - val_accuracy: 0.1135\n",
      "Epoch 10/10\n",
      "2143/2143 [==============================] - 19s 9ms/step - loss: 0.0630 - accuracy: 0.9802 - val_loss: 14.2172 - val_accuracy: 0.1135\n"
     ]
    },
    {
     "data": {
      "text/plain": [
       "<tensorflow.python.keras.callbacks.History at 0x14f53431488>"
      ]
     },
     "execution_count": 19,
     "metadata": {},
     "output_type": "execute_result"
    }
   ],
   "source": [
    "x_train = x_train.reshape(x_train.shape[0], 28, 28, 1)\n",
    "x_test = x_test.reshape(x_test.shape[0], 28, 28, 1)\n",
    "\n",
    "\n",
    "x_train = x_train.astype(np.float32) / 255\n",
    "x_test = x_test.astype(np.float32) / 255\n",
    "\n",
    "y_train_cl = to_categorical(y_train, num_classes=10)\n",
    "y_test_cl = to_categorical(y_test, num_classes=10)\n",
    "print(y_train_cl.shape)\n",
    "\n",
    "inp = Input(shape=(28, 28, 1))\n",
    "\n",
    "out = create_model(inp)\n",
    "model = Model(inp, out)\n",
    "model.summary()\n",
    "model.compile(optimizer='adam',\n",
    "              loss='categorical_crossentropy',\n",
    "              metrics=['accuracy'])\n",
    "log_dir = \"logs/mnist_tb/\" + 'adam'\n",
    "tensorboard_callback = tf.keras.callbacks.TensorBoard(log_dir=log_dir, histogram_freq=1)\n",
    "\n",
    "model.fit(x=x_train, \n",
    "          y=y_train_cl, \n",
    "          batch_size=28,\n",
    "          epochs=10,\n",
    "          validation_data=(x_test, y_test_cl), \n",
    "          callbacks=[tensorboard_callback])"
   ]
  },
  {
   "cell_type": "code",
   "execution_count": 5,
   "metadata": {},
   "outputs": [
    {
     "name": "stdout",
     "output_type": "stream",
     "text": [
      "Model: \"functional_3\"\n",
      "_________________________________________________________________\n",
      "Layer (type)                 Output Shape              Param #   \n",
      "=================================================================\n",
      "input_1 (InputLayer)         [(None, 28, 28, 1)]       0         \n",
      "_________________________________________________________________\n",
      "conv2d (Conv2D)              (None, 28, 28, 8)         80        \n",
      "_________________________________________________________________\n",
      "max_pooling2d (MaxPooling2D) (None, 14, 14, 8)         0         \n",
      "_________________________________________________________________\n",
      "conv2d_1 (Conv2D)            (None, 14, 14, 16)        1168      \n",
      "_________________________________________________________________\n",
      "flatten (Flatten)            (None, 3136)              0         \n",
      "_________________________________________________________________\n",
      "dense (Dense)                (None, 128)               401536    \n",
      "_________________________________________________________________\n",
      "dropout (Dropout)            (None, 128)               0         \n",
      "_________________________________________________________________\n",
      "dense_1 (Dense)              (None, 10)                1290      \n",
      "=================================================================\n",
      "Total params: 404,074\n",
      "Trainable params: 404,074\n",
      "Non-trainable params: 0\n",
      "_________________________________________________________________\n",
      "Epoch 1/10\n",
      "   2/2143 [..............................] - ETA: 1:18 - loss: 0.0885 - accuracy: 0.9643WARNING:tensorflow:Callbacks method `on_train_batch_end` is slow compared to the batch time (batch time: 0.0080s vs `on_train_batch_end` time: 0.0648s). Check your callbacks.\n",
      "2143/2143 [==============================] - 23s 11ms/step - loss: 0.0554 - accuracy: 0.9824 - val_loss: 0.0825 - val_accuracy: 0.9778\n",
      "Epoch 2/10\n",
      "2143/2143 [==============================] - 23s 11ms/step - loss: 0.0555 - accuracy: 0.9830 - val_loss: 0.1200 - val_accuracy: 0.9699\n",
      "Epoch 3/10\n",
      "2143/2143 [==============================] - 22s 10ms/step - loss: 0.0543 - accuracy: 0.9834 - val_loss: 0.0995 - val_accuracy: 0.9756\n",
      "Epoch 4/10\n",
      "2143/2143 [==============================] - 23s 11ms/step - loss: 0.0530 - accuracy: 0.9840 - val_loss: 0.1330 - val_accuracy: 0.9664\n",
      "Epoch 5/10\n",
      "2143/2143 [==============================] - 23s 11ms/step - loss: 0.0514 - accuracy: 0.9837 - val_loss: 0.1092 - val_accuracy: 0.9740\n",
      "Epoch 6/10\n",
      "2143/2143 [==============================] - 22s 10ms/step - loss: 0.0525 - accuracy: 0.9838 - val_loss: 0.1020 - val_accuracy: 0.9754\n",
      "Epoch 7/10\n",
      "2143/2143 [==============================] - 22s 10ms/step - loss: 0.0509 - accuracy: 0.9845 - val_loss: 0.1002 - val_accuracy: 0.9764\n",
      "Epoch 8/10\n",
      "2143/2143 [==============================] - 22s 10ms/step - loss: 0.0503 - accuracy: 0.9843 - val_loss: 0.1208 - val_accuracy: 0.9712\n",
      "Epoch 9/10\n",
      "2143/2143 [==============================] - 23s 11ms/step - loss: 0.0493 - accuracy: 0.9848 - val_loss: 0.1368 - val_accuracy: 0.9701\n",
      "Epoch 10/10\n",
      "2143/2143 [==============================] - 22s 10ms/step - loss: 0.0496 - accuracy: 0.9852 - val_loss: 0.1349 - val_accuracy: 0.9727\n"
     ]
    },
    {
     "data": {
      "text/plain": [
       "<tensorflow.python.keras.callbacks.History at 0x1a0f6dfa548>"
      ]
     },
     "execution_count": 5,
     "metadata": {},
     "output_type": "execute_result"
    }
   ],
   "source": [
    "model2 = Model(inp, out)\n",
    "model2.summary()\n",
    "model2.compile(optimizer='RMSProp',\n",
    "              loss='categorical_crossentropy',\n",
    "              metrics=['accuracy'])\n",
    "\n",
    "log_dir = \"logs/mnist_tb/\" + 'RMSProp'\n",
    "tensorboard_callback = tf.keras.callbacks.TensorBoard(log_dir=log_dir, histogram_freq=1)\n",
    "\n",
    "model2.fit(x=x_train, \n",
    "          y=y_train_cl, \n",
    "          batch_size=28,\n",
    "          epochs=10,\n",
    "          validation_data=(x_test, y_test_cl), \n",
    "          callbacks=[tensorboard_callback])"
   ]
  },
  {
   "cell_type": "code",
   "execution_count": 6,
   "metadata": {},
   "outputs": [
    {
     "name": "stdout",
     "output_type": "stream",
     "text": [
      "Model: \"functional_5\"\n",
      "_________________________________________________________________\n",
      "Layer (type)                 Output Shape              Param #   \n",
      "=================================================================\n",
      "input_1 (InputLayer)         [(None, 28, 28, 1)]       0         \n",
      "_________________________________________________________________\n",
      "conv2d (Conv2D)              (None, 28, 28, 8)         80        \n",
      "_________________________________________________________________\n",
      "max_pooling2d (MaxPooling2D) (None, 14, 14, 8)         0         \n",
      "_________________________________________________________________\n",
      "conv2d_1 (Conv2D)            (None, 14, 14, 16)        1168      \n",
      "_________________________________________________________________\n",
      "flatten (Flatten)            (None, 3136)              0         \n",
      "_________________________________________________________________\n",
      "dense (Dense)                (None, 128)               401536    \n",
      "_________________________________________________________________\n",
      "dropout (Dropout)            (None, 128)               0         \n",
      "_________________________________________________________________\n",
      "dense_1 (Dense)              (None, 10)                1290      \n",
      "=================================================================\n",
      "Total params: 404,074\n",
      "Trainable params: 404,074\n",
      "Non-trainable params: 0\n",
      "_________________________________________________________________\n",
      "Epoch 1/10\n",
      "   2/2143 [..............................] - ETA: 1:09 - loss: 0.0617 - accuracy: 0.9821WARNING:tensorflow:Callbacks method `on_train_batch_end` is slow compared to the batch time (batch time: 0.0080s vs `on_train_batch_end` time: 0.0549s). Check your callbacks.\n",
      "2143/2143 [==============================] - 21s 10ms/step - loss: 0.0273 - accuracy: 0.9913 - val_loss: 0.1046 - val_accuracy: 0.9768\n",
      "Epoch 2/10\n",
      "2143/2143 [==============================] - 20s 9ms/step - loss: 0.0229 - accuracy: 0.9927 - val_loss: 0.1033 - val_accuracy: 0.9771\n",
      "Epoch 3/10\n",
      "2143/2143 [==============================] - 20s 9ms/step - loss: 0.0225 - accuracy: 0.9930 - val_loss: 0.1020 - val_accuracy: 0.9771\n",
      "Epoch 4/10\n",
      "2143/2143 [==============================] - 20s 10ms/step - loss: 0.0233 - accuracy: 0.9925 - val_loss: 0.1015 - val_accuracy: 0.9773\n",
      "Epoch 5/10\n",
      "2143/2143 [==============================] - 20s 9ms/step - loss: 0.0219 - accuracy: 0.9932 - val_loss: 0.1005 - val_accuracy: 0.9766\n",
      "Epoch 6/10\n",
      "2143/2143 [==============================] - 20s 9ms/step - loss: 0.0209 - accuracy: 0.9934 - val_loss: 0.1010 - val_accuracy: 0.9766\n",
      "Epoch 7/10\n",
      "2143/2143 [==============================] - 21s 10ms/step - loss: 0.0212 - accuracy: 0.9933 - val_loss: 0.1003 - val_accuracy: 0.9767\n",
      "Epoch 8/10\n",
      "2143/2143 [==============================] - 20s 10ms/step - loss: 0.0220 - accuracy: 0.9933 - val_loss: 0.0997 - val_accuracy: 0.9769\n",
      "Epoch 9/10\n",
      "2143/2143 [==============================] - 20s 9ms/step - loss: 0.0210 - accuracy: 0.9935 - val_loss: 0.0995 - val_accuracy: 0.9770\n",
      "Epoch 10/10\n",
      "2143/2143 [==============================] - 20s 9ms/step - loss: 0.0203 - accuracy: 0.9937 - val_loss: 0.0996 - val_accuracy: 0.9769\n"
     ]
    },
    {
     "data": {
      "text/plain": [
       "<tensorflow.python.keras.callbacks.History at 0x1a0f6d25948>"
      ]
     },
     "execution_count": 6,
     "metadata": {},
     "output_type": "execute_result"
    }
   ],
   "source": [
    "model3 = Model(inp, out)\n",
    "model3.summary()\n",
    "model3.compile(optimizer='Adagrad',\n",
    "               loss='categorical_crossentropy',\n",
    "               metrics=['accuracy'])\n",
    "\n",
    "log_dir = \"logs/mnist_tb/\" + 'Adagrad'\n",
    "tensorboard_callback = tf.keras.callbacks.TensorBoard(log_dir=log_dir, histogram_freq=1)\n",
    "\n",
    "model3.fit(x=x_train, \n",
    "          y=y_train_cl, \n",
    "          batch_size=28,\n",
    "          epochs=10,\n",
    "          validation_data=(x_test, y_test_cl), \n",
    "           callbacks=[tensorboard_callback])"
   ]
  },
  {
   "cell_type": "code",
   "execution_count": 9,
   "metadata": {},
   "outputs": [
    {
     "name": "stdout",
     "output_type": "stream",
     "text": [
      "Model: \"functional_11\"\n",
      "_________________________________________________________________\n",
      "Layer (type)                 Output Shape              Param #   \n",
      "=================================================================\n",
      "input_1 (InputLayer)         [(None, 28, 28, 1)]       0         \n",
      "_________________________________________________________________\n",
      "conv2d (Conv2D)              (None, 28, 28, 8)         80        \n",
      "_________________________________________________________________\n",
      "max_pooling2d (MaxPooling2D) (None, 14, 14, 8)         0         \n",
      "_________________________________________________________________\n",
      "conv2d_1 (Conv2D)            (None, 14, 14, 16)        1168      \n",
      "_________________________________________________________________\n",
      "flatten (Flatten)            (None, 3136)              0         \n",
      "_________________________________________________________________\n",
      "dense (Dense)                (None, 128)               401536    \n",
      "_________________________________________________________________\n",
      "dropout (Dropout)            (None, 128)               0         \n",
      "_________________________________________________________________\n",
      "dense_1 (Dense)              (None, 10)                1290      \n",
      "=================================================================\n",
      "Total params: 404,074\n",
      "Trainable params: 404,074\n",
      "Non-trainable params: 0\n",
      "_________________________________________________________________\n",
      "Epoch 1/10\n",
      "   2/2143 [..............................] - ETA: 4:08 - loss: 0.0039 - accuracy: 1.0000WARNING:tensorflow:Callbacks method `on_train_batch_end` is slow compared to the batch time (batch time: 0.0100s vs `on_train_batch_end` time: 0.2227s). Check your callbacks.\n",
      "2143/2143 [==============================] - 28s 13ms/step - loss: 0.0239 - accuracy: 0.9926 - val_loss: 0.1019 - val_accuracy: 0.9760\n",
      "Epoch 2/10\n",
      "2143/2143 [==============================] - 29s 14ms/step - loss: 0.0206 - accuracy: 0.9934 - val_loss: 0.1030 - val_accuracy: 0.9762\n",
      "Epoch 3/10\n",
      "2143/2143 [==============================] - 28s 13ms/step - loss: 0.0192 - accuracy: 0.9941 - val_loss: 0.1000 - val_accuracy: 0.9768\n",
      "Epoch 4/10\n",
      "2143/2143 [==============================] - 29s 14ms/step - loss: 0.0187 - accuracy: 0.9937 - val_loss: 0.1006 - val_accuracy: 0.9764\n",
      "Epoch 5/10\n",
      "2143/2143 [==============================] - 31s 14ms/step - loss: 0.0174 - accuracy: 0.9945 - val_loss: 0.1043 - val_accuracy: 0.9765\n",
      "Epoch 6/10\n",
      "2143/2143 [==============================] - 30s 14ms/step - loss: 0.0167 - accuracy: 0.9943 - val_loss: 0.1007 - val_accuracy: 0.9765\n",
      "Epoch 7/10\n",
      "2143/2143 [==============================] - 30s 14ms/step - loss: 0.0154 - accuracy: 0.9954 - val_loss: 0.1074 - val_accuracy: 0.9759\n",
      "Epoch 8/10\n",
      "2143/2143 [==============================] - 29s 14ms/step - loss: 0.0154 - accuracy: 0.9954 - val_loss: 0.1042 - val_accuracy: 0.9766\n",
      "Epoch 9/10\n",
      "2143/2143 [==============================] - 30s 14ms/step - loss: 0.0145 - accuracy: 0.9956 - val_loss: 0.1093 - val_accuracy: 0.9757\n",
      "Epoch 10/10\n",
      "2143/2143 [==============================] - 29s 14ms/step - loss: 0.0140 - accuracy: 0.9954 - val_loss: 0.1116 - val_accuracy: 0.9748\n"
     ]
    },
    {
     "data": {
      "text/plain": [
       "<tensorflow.python.keras.callbacks.History at 0x1a0f6a29388>"
      ]
     },
     "execution_count": 9,
     "metadata": {},
     "output_type": "execute_result"
    }
   ],
   "source": [
    "model4 = Model(inp, out)\n",
    "model4.summary()\n",
    "model4.compile(optimizer='Adamax',\n",
    "              loss='categorical_crossentropy',\n",
    "              metrics=['accuracy'])\n",
    "\n",
    "log_dir = \"logs/mnist_tb/\" + 'Adamax'\n",
    "tensorboard_callback = tf.keras.callbacks.TensorBoard(log_dir=log_dir, histogram_freq=1)\n",
    "\n",
    "model4.fit(x=x_train, \n",
    "          y=y_train_cl, \n",
    "          batch_size = 28,\n",
    "          epochs=10, \n",
    "          validation_data=(x_test, y_test_cl), \n",
    "          callbacks=[tensorboard_callback])"
   ]
  },
  {
   "cell_type": "markdown",
   "metadata": {},
   "source": [
    "The graph of accuracy for validation set for different optimizers shows that number of epochs is sufficient: the fucntion reaches its asymptote. The accuracy values for different optimizers are close to each other, but \"AdamMax\" (4) and  \"Adamgrad\" (3) show better performance than Adam (1)"
   ]
  },
  {
   "cell_type": "markdown",
   "metadata": {},
   "source": [
    "![alt text](accuracy_models.jpg)"
   ]
  },
  {
   "cell_type": "markdown",
   "metadata": {},
   "source": [
    "The loss for validation function is the lowest for Adam optimizer. So, as the accuracy does not differ much for all the optimizers, we can say that Adam optimizer is preferable"
   ]
  },
  {
   "cell_type": "markdown",
   "metadata": {},
   "source": [
    "![alt text](tb_loss_acc.png)"
   ]
  },
  {
   "cell_type": "code",
   "execution_count": 13,
   "metadata": {},
   "outputs": [],
   "source": [
    "def create_model_overfitting(inp):\n",
    "    layer = Conv2D(filters=24, kernel_size=(3, 3), padding='same')(inp)\n",
    "    layer = MaxPool2D(pool_size=(2, 2))(layer)\n",
    "    #layer = MaxPool2D(pool_size=(2, 2))(layer)\n",
    "\n",
    "    layer = Flatten()(layer)\n",
    "    layer = Dense(units=64)(layer)\n",
    "    #layer = Dropout(0.2)(layer)\n",
    "    out = Dense(units=10, activation='softmax')(layer)\n",
    "    return out"
   ]
  },
  {
   "cell_type": "code",
   "execution_count": 14,
   "metadata": {},
   "outputs": [
    {
     "name": "stdout",
     "output_type": "stream",
     "text": [
      "Model: \"functional_11\"\n",
      "_________________________________________________________________\n",
      "Layer (type)                 Output Shape              Param #   \n",
      "=================================================================\n",
      "input_2 (InputLayer)         [(None, 28, 28, 1)]       0         \n",
      "_________________________________________________________________\n",
      "conv2d_6 (Conv2D)            (None, 28, 28, 24)        240       \n",
      "_________________________________________________________________\n",
      "max_pooling2d_2 (MaxPooling2 (None, 14, 14, 24)        0         \n",
      "_________________________________________________________________\n",
      "flatten_5 (Flatten)          (None, 4704)              0         \n",
      "_________________________________________________________________\n",
      "dense_10 (Dense)             (None, 64)                301120    \n",
      "_________________________________________________________________\n",
      "dense_11 (Dense)             (None, 10)                650       \n",
      "=================================================================\n",
      "Total params: 302,010\n",
      "Trainable params: 302,010\n",
      "Non-trainable params: 0\n",
      "_________________________________________________________________\n",
      "Epoch 1/15\n",
      "    2/12000 [..............................] - ETA: 15:05 - loss: 0.0012 - accuracy: 1.0000WARNING:tensorflow:Callbacks method `on_train_batch_end` is slow compared to the batch time (batch time: 0.0050s vs `on_train_batch_end` time: 0.1470s). Check your callbacks.\n",
      "12000/12000 [==============================] - 58s 5ms/step - loss: 0.0653 - accuracy: 0.9794 - val_loss: 0.0993 - val_accuracy: 0.9706\n",
      "Epoch 2/15\n",
      "12000/12000 [==============================] - 58s 5ms/step - loss: 0.0639 - accuracy: 0.9796 - val_loss: 0.0899 - val_accuracy: 0.9740\n",
      "Epoch 3/15\n",
      "12000/12000 [==============================] - 60s 5ms/step - loss: 0.0623 - accuracy: 0.9806 - val_loss: 0.0953 - val_accuracy: 0.9719\n",
      "Epoch 4/15\n",
      "12000/12000 [==============================] - 60s 5ms/step - loss: 0.0599 - accuracy: 0.9812 - val_loss: 0.0718 - val_accuracy: 0.9801\n",
      "Epoch 5/15\n",
      "12000/12000 [==============================] - 58s 5ms/step - loss: 0.0579 - accuracy: 0.9813 - val_loss: 0.0842 - val_accuracy: 0.9758\n",
      "Epoch 6/15\n",
      "12000/12000 [==============================] - 58s 5ms/step - loss: 0.0574 - accuracy: 0.9817 - val_loss: 0.0835 - val_accuracy: 0.9762\n",
      "Epoch 7/15\n",
      "12000/12000 [==============================] - 60s 5ms/step - loss: 0.0574 - accuracy: 0.9817 - val_loss: 0.0868 - val_accuracy: 0.9755\n",
      "Epoch 8/15\n",
      "12000/12000 [==============================] - 59s 5ms/step - loss: 0.0575 - accuracy: 0.9814 - val_loss: 0.1240 - val_accuracy: 0.9682\n",
      "Epoch 9/15\n",
      "12000/12000 [==============================] - 61s 5ms/step - loss: 0.0557 - accuracy: 0.9823 - val_loss: 0.0844 - val_accuracy: 0.9766\n",
      "Epoch 10/15\n",
      "12000/12000 [==============================] - 59s 5ms/step - loss: 0.0545 - accuracy: 0.9827 - val_loss: 0.0911 - val_accuracy: 0.9747\n",
      "Epoch 11/15\n",
      "12000/12000 [==============================] - 58s 5ms/step - loss: 0.0550 - accuracy: 0.9827 - val_loss: 0.1112 - val_accuracy: 0.9692\n",
      "Epoch 12/15\n",
      "12000/12000 [==============================] - 59s 5ms/step - loss: 0.0517 - accuracy: 0.9829 - val_loss: 0.0965 - val_accuracy: 0.9747\n",
      "Epoch 13/15\n",
      "12000/12000 [==============================] - 58s 5ms/step - loss: 0.0518 - accuracy: 0.9830 - val_loss: 0.0980 - val_accuracy: 0.9754\n",
      "Epoch 14/15\n",
      "12000/12000 [==============================] - 59s 5ms/step - loss: 0.0523 - accuracy: 0.9836 - val_loss: 0.1267 - val_accuracy: 0.9656\n",
      "Epoch 15/15\n",
      "12000/12000 [==============================] - 60s 5ms/step - loss: 0.0495 - accuracy: 0.9839 - val_loss: 0.0871 - val_accuracy: 0.9769\n"
     ]
    },
    {
     "data": {
      "text/plain": [
       "<tensorflow.python.keras.callbacks.History at 0x14f542920c8>"
      ]
     },
     "execution_count": 14,
     "metadata": {},
     "output_type": "execute_result"
    }
   ],
   "source": [
    "out_overfitting = create_model_overfitting(inp)\n",
    "model_overfitting = Model(inp, out_overfitting)\n",
    "model_overfitting.summary()\n",
    "model_overfitting.compile(optimizer='adam',\n",
    "              loss='categorical_crossentropy',\n",
    "              metrics=['accuracy'])\n",
    "\n",
    "log_dir = \"logs/mnist_overr/\" + 'adam'\n",
    "tensorboard_callback = tf.keras.callbacks.TensorBoard(log_dir=log_dir, histogram_freq=1)\n",
    "\n",
    "model.fit(x=x_train, \n",
    "          y=y_train_cl, \n",
    "          epochs=15, \n",
    "          batch_size= 5,\n",
    "          validation_data=(x_test, y_test_cl), \n",
    "          callbacks=[tensorboard_callback])"
   ]
  },
  {
   "cell_type": "markdown",
   "metadata": {},
   "source": [
    "Overfitting: The plot of training loss continues to decrease.\n",
    "The plot of validation loss decreases to a point and then begins increasing again.\n",
    "The inflection point in validation loss may be the point at which training could be halted as experience after that point shows the dynamics of overfitting."
   ]
  },
  {
   "cell_type": "markdown",
   "metadata": {},
   "source": [
    "![alt text](overfit.png)"
   ]
  },
  {
   "cell_type": "code",
   "execution_count": 15,
   "metadata": {},
   "outputs": [],
   "source": [
    "def rotation(image,angle):\n",
    "    #image = ndimage.rotate(image, angle) \n",
    "    image = image.reshape((28,28))\n",
    "    return image\n",
    "    \n",
    "\n",
    "def blur(image):\n",
    "    kernel = (random.randint(1,10), random.randint(1,10))\n",
    "    #image = cv2.blur(image, kernel)\n",
    "    image = image.reshape((28,28))\n",
    "    return image\n",
    "\n",
    "def flip(image):\n",
    "    flip = random.randint(-1,1)\n",
    "    #image = cv2.flip(image, flip)\n",
    "    image = image.reshape((28,28))\n",
    "    return image\n",
    "    \n",
    "def augmentations(image, type):\n",
    "    cases = {\n",
    "        '1': lambda image: rotation(image, random.randrange(0,360)),\n",
    "        '2': lambda image: blur(image),\n",
    "        '3': lambda image: flip(image)\n",
    "    }\n",
    "    result = cases[str(type)]\n",
    "    return result(image)\n"
   ]
  },
  {
   "cell_type": "code",
   "execution_count": 20,
   "metadata": {},
   "outputs": [
    {
     "name": "stdout",
     "output_type": "stream",
     "text": [
      "(28, 28)\n"
     ]
    }
   ],
   "source": [
    "\n",
    "(x_train, y_train),(x_test, y_test) = mnist.load_data()\n",
    "x_train_augmented = x_train\n",
    "print(np.shape(x_train[0]))\n",
    "i = 0\n",
    "for image in x_train:\n",
    "    x_train_augmented[i] = augmentations(image, random.randint(1,3))\n",
    "    i = i + 1"
   ]
  },
  {
   "cell_type": "code",
   "execution_count": 18,
   "metadata": {},
   "outputs": [
    {
     "name": "stdout",
     "output_type": "stream",
     "text": [
      "Model: \"functional_13\"\n",
      "_________________________________________________________________\n",
      "Layer (type)                 Output Shape              Param #   \n",
      "=================================================================\n",
      "input_2 (InputLayer)         [(None, 28, 28, 1)]       0         \n",
      "_________________________________________________________________\n",
      "conv2d_7 (Conv2D)            (None, 28, 28, 8)         80        \n",
      "_________________________________________________________________\n",
      "max_pooling2d_3 (MaxPooling2 (None, 14, 14, 8)         0         \n",
      "_________________________________________________________________\n",
      "conv2d_8 (Conv2D)            (None, 14, 14, 16)        1168      \n",
      "_________________________________________________________________\n",
      "flatten_6 (Flatten)          (None, 3136)              0         \n",
      "_________________________________________________________________\n",
      "dense_12 (Dense)             (None, 128)               401536    \n",
      "_________________________________________________________________\n",
      "dropout_1 (Dropout)          (None, 128)               0         \n",
      "_________________________________________________________________\n",
      "dense_13 (Dense)             (None, 10)                1290      \n",
      "=================================================================\n",
      "Total params: 404,074\n",
      "Trainable params: 404,074\n",
      "Non-trainable params: 0\n",
      "_________________________________________________________________\n",
      "Epoch 1/15\n",
      "   2/2143 [..............................] - ETA: 9:44 - loss: 2.3001 - accuracy: 0.1964WARNING:tensorflow:Callbacks method `on_train_batch_end` is slow compared to the batch time (batch time: 0.0080s vs `on_train_batch_end` time: 0.5383s). Check your callbacks.\n",
      "2143/2143 [==============================] - 16s 7ms/step - loss: 0.4771 - accuracy: 0.8557 - val_loss: 0.2987 - val_accuracy: 0.9135\n",
      "Epoch 2/15\n",
      "2143/2143 [==============================] - 21s 10ms/step - loss: 0.3236 - accuracy: 0.9064 - val_loss: 0.2847 - val_accuracy: 0.9195\n",
      "Epoch 3/15\n",
      "2143/2143 [==============================] - 19s 9ms/step - loss: 0.3089 - accuracy: 0.9111 - val_loss: 0.2696 - val_accuracy: 0.9214\n",
      "Epoch 4/15\n",
      "2143/2143 [==============================] - 19s 9ms/step - loss: 0.2955 - accuracy: 0.9150 - val_loss: 0.2619 - val_accuracy: 0.9257\n",
      "Epoch 5/15\n",
      "2143/2143 [==============================] - 19s 9ms/step - loss: 0.2758 - accuracy: 0.9213 - val_loss: 0.2515 - val_accuracy: 0.9276\n",
      "Epoch 6/15\n",
      "2143/2143 [==============================] - 19s 9ms/step - loss: 0.2539 - accuracy: 0.9273 - val_loss: 0.2192 - val_accuracy: 0.9389\n",
      "Epoch 7/15\n",
      "2143/2143 [==============================] - 19s 9ms/step - loss: 0.2338 - accuracy: 0.9322 - val_loss: 0.2204 - val_accuracy: 0.9378\n",
      "Epoch 8/15\n",
      "2143/2143 [==============================] - 20s 10ms/step - loss: 0.2176 - accuracy: 0.9377 - val_loss: 0.1882 - val_accuracy: 0.9476\n",
      "Epoch 9/15\n",
      "2143/2143 [==============================] - 21s 10ms/step - loss: 0.1966 - accuracy: 0.9429 - val_loss: 0.1669 - val_accuracy: 0.9541\n",
      "Epoch 10/15\n",
      "2143/2143 [==============================] - 19s 9ms/step - loss: 0.1717 - accuracy: 0.9506 - val_loss: 0.1508 - val_accuracy: 0.9574\n",
      "Epoch 11/15\n",
      "2143/2143 [==============================] - 19s 9ms/step - loss: 0.1528 - accuracy: 0.9560 - val_loss: 0.1282 - val_accuracy: 0.9625\n",
      "Epoch 12/15\n",
      "2143/2143 [==============================] - 19s 9ms/step - loss: 0.1365 - accuracy: 0.9608 - val_loss: 0.1189 - val_accuracy: 0.9648\n",
      "Epoch 13/15\n",
      "2143/2143 [==============================] - 19s 9ms/step - loss: 0.1245 - accuracy: 0.9631 - val_loss: 0.1070 - val_accuracy: 0.9679\n",
      "Epoch 14/15\n",
      "2143/2143 [==============================] - 19s 9ms/step - loss: 0.1146 - accuracy: 0.9661 - val_loss: 0.1022 - val_accuracy: 0.9690\n",
      "Epoch 15/15\n",
      "2143/2143 [==============================] - 19s 9ms/step - loss: 0.1091 - accuracy: 0.9679 - val_loss: 0.0994 - val_accuracy: 0.9714\n"
     ]
    },
    {
     "data": {
      "text/plain": [
       "<tensorflow.python.keras.callbacks.History at 0x14f54135948>"
      ]
     },
     "execution_count": 18,
     "metadata": {},
     "output_type": "execute_result"
    }
   ],
   "source": [
    "x_train_augmented, x_test = x_train_augmented / 255.0, x_test / 255.0\n",
    "out5 = create_model(inp)\n",
    "model5 = Model(inp, out5)\n",
    "model5.summary()\n",
    "model5.compile(optimizer='adam',\n",
    "              loss='categorical_crossentropy',\n",
    "              metrics=['accuracy'])\n",
    "\n",
    "log_dir = \"logs/mnist/\" + 'augmentation'\n",
    "tensorboard_callback = tf.keras.callbacks.TensorBoard(log_dir=log_dir, histogram_freq=1)\n",
    "\n",
    "model5.fit(x=x_train_augmented, \n",
    "          y=y_train_cl, \n",
    "          epochs=15, \n",
    "          batch_size = 28,\n",
    "          validation_data=(x_test, y_test_cl), \n",
    "          callbacks=[tensorboard_callback])"
   ]
  },
  {
   "cell_type": "markdown",
   "metadata": {},
   "source": [
    "![alt text](augmentation.png)"
   ]
  }
 ],
 "metadata": {
  "kernelspec": {
   "display_name": "Python 3",
   "language": "python",
   "name": "python3"
  },
  "language_info": {
   "codemirror_mode": {
    "name": "ipython",
    "version": 3
   },
   "file_extension": ".py",
   "mimetype": "text/x-python",
   "name": "python",
   "nbconvert_exporter": "python",
   "pygments_lexer": "ipython3",
   "version": "3.7.6"
  }
 },
 "nbformat": 4,
 "nbformat_minor": 4
}
