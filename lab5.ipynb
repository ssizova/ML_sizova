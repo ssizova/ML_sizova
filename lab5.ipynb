{
 "cells": [
  {
   "cell_type": "code",
   "execution_count": 321,
   "metadata": {},
   "outputs": [],
   "source": [
    "import codecs\n",
    "import numpy as np\n",
    "import gensim\n",
    "import io\n",
    "import sys\n",
    "import codecs\n",
    "from gensim.models import Word2Vec\n",
    "import matplotlib.pyplot as plt\n",
    "import pandas as pd\n",
    "from keras.layers import Dense, LSTM, Input\n",
    "from keras.models import Model\n",
    "from keras.utils import np_utils\n",
    "from sklearn.preprocessing import OneHotEncoder"
   ]
  },
  {
   "cell_type": "markdown",
   "metadata": {},
   "source": [
    "# Data preprocessing"
   ]
  },
  {
   "cell_type": "code",
   "execution_count": 322,
   "metadata": {},
   "outputs": [],
   "source": [
    "text_name = \"data_for_lab5/potter_no_signs.txt\"\n",
    "with codecs.open(text_name, encoding= 'utf-8', mode='r') as f:\n",
    "    docs = f.readlines()#.replace(\"\\r\\n\", \" \")"
   ]
  },
  {
   "cell_type": "code",
   "execution_count": 323,
   "metadata": {},
   "outputs": [
    {
     "name": "stdout",
     "output_type": "stream",
     "text": [
      "28242 предложений\n"
     ]
    }
   ],
   "source": [
    "max_sentence_len = 20\n",
    "sentences = [sent for doc in docs for sent in doc.split('.')]\n",
    "sentences = [[word for word in sent.lower().split()[:max_sentence_len]] for sent in sentences]\n",
    "print(len(sentences), 'предложений')"
   ]
  },
  {
   "cell_type": "markdown",
   "metadata": {},
   "source": [
    "# Model training"
   ]
  },
  {
   "cell_type": "code",
   "execution_count": 324,
   "metadata": {},
   "outputs": [],
   "source": [
    "word_model = Word2Vec(sentences, vector_size=100, window=5, min_count=1, epochs=200)\n",
    "word_model.save(\"word2vec.model\")"
   ]
  },
  {
   "cell_type": "code",
   "execution_count": 125,
   "metadata": {},
   "outputs": [
    {
     "name": "stdout",
     "output_type": "stream",
     "text": [
      "Похожие слова:\n",
      "  гермиона -> она (0.63), полумна (0.54), анджелина (0.45), чжоу (0.43), амбридж (0.42), лаванда (0.40), тонкс (0.38), ты (0.38)\n",
      "  гарри -> он (0.88), и (0.76), в (0.66), не (0.66), на (0.63), что (0.62), я (0.56), но (0.56)\n",
      "  палочка -> волшебная (0.64), красовались (0.59), перекрещенные (0.58), кость (0.56), скрещенные (0.56), подбородок (0.53), направленная (0.52), испускала (0.52)\n",
      "  собака -> укусит (0.72), ровен (0.69), залаяла (0.65), исступленно (0.56), приветствую (0.53), стереосистема (0.53), магла (0.52), подашь (0.51)\n",
      "  зелье -> свертывалось (0.54), максимальное (0.54), оборотном (0.52), строение (0.50), кропотливой (0.47), крововосполняющее (0.47), взгляд: (0.45), неожиданных (0.45)\n",
      "  турнир -> родословная (0.72), полезные (0.63), лаются (0.63), оскорблений (0.63), юных (0.63), учреждениях (0.62), раскошеливайтесь (0.61), чрезвычайной (0.61)\n",
      "  кубок -> вина (0.52), шумок (0.49), глотнуть (0.46), по-сонному (0.46), привыкла (0.44), спутанным (0.43), разыгрывался (0.43), опушки (0.43)\n"
     ]
    }
   ],
   "source": [
    "print('Похожие слова:')\n",
    "for word in ['гермиона', 'гарри', 'палочка', 'собака', 'зелье','турнир','кубок']:\n",
    "    most_similar = ', '.join('%s (%.2f)' % (similar, dist) for similar, dist in word_model.wv.most_similar(word)[:8])\n",
    "    print('  %s -> %s' % (word, most_similar))"
   ]
  },
  {
   "cell_type": "code",
   "execution_count": 126,
   "metadata": {},
   "outputs": [],
   "source": [
    "matrix =np.array(word_model.wv.get_vector('палочка'))"
   ]
  },
  {
   "cell_type": "code",
   "execution_count": 127,
   "metadata": {},
   "outputs": [
    {
     "data": {
      "text/plain": [
       "[('малфой', 0.9537742137908936),\n",
       " ('обормоттер', 0.4360995292663574),\n",
       " ('у-тю-тю', 0.43593549728393555),\n",
       " ('драгоценный', 0.39384493231773376),\n",
       " ('де-мен-то-ра', 0.3935497999191284),\n",
       " ('изловить', 0.3921833634376526),\n",
       " ('пса', 0.39108559489250183),\n",
       " ('слизерин', 0.390460342168808),\n",
       " ('занавес', 0.3862284719944),\n",
       " ('оборзел', 0.3801157474517822)]"
      ]
     },
     "execution_count": 127,
     "metadata": {},
     "output_type": "execute_result"
    }
   ],
   "source": [
    "vec = word_model.wv.get_vector('слизерин') + word_model.wv.get_vector('малфой') \n",
    "word_model.wv.similar_by_vector(vec)"
   ]
  },
  {
   "cell_type": "code",
   "execution_count": 128,
   "metadata": {},
   "outputs": [
    {
     "data": {
      "text/html": [
       "<div>\n",
       "<style scoped>\n",
       "    .dataframe tbody tr th:only-of-type {\n",
       "        vertical-align: middle;\n",
       "    }\n",
       "\n",
       "    .dataframe tbody tr th {\n",
       "        vertical-align: top;\n",
       "    }\n",
       "\n",
       "    .dataframe thead th {\n",
       "        text-align: right;\n",
       "    }\n",
       "</style>\n",
       "<table border=\"1\" class=\"dataframe\">\n",
       "  <thead>\n",
       "    <tr style=\"text-align: right;\">\n",
       "      <th></th>\n",
       "      <th>API</th>\n",
       "      <th>Year</th>\n",
       "      <th>Month</th>\n",
       "      <th>Liquid</th>\n",
       "      <th>Gas</th>\n",
       "      <th>RatioGasOil</th>\n",
       "      <th>Water</th>\n",
       "      <th>PercentWater</th>\n",
       "      <th>DaysOn</th>\n",
       "      <th>_LastUpdate</th>\n",
       "    </tr>\n",
       "  </thead>\n",
       "  <tbody>\n",
       "    <tr>\n",
       "      <th>0</th>\n",
       "      <td>5005072170100</td>\n",
       "      <td>2014</td>\n",
       "      <td>11</td>\n",
       "      <td>9783</td>\n",
       "      <td>11470</td>\n",
       "      <td>1.172442</td>\n",
       "      <td>10558</td>\n",
       "      <td>1.079219</td>\n",
       "      <td>14</td>\n",
       "      <td>2016-04-06 17:20:05.757</td>\n",
       "    </tr>\n",
       "    <tr>\n",
       "      <th>1</th>\n",
       "      <td>5005072170100</td>\n",
       "      <td>2014</td>\n",
       "      <td>12</td>\n",
       "      <td>24206</td>\n",
       "      <td>26476</td>\n",
       "      <td>1.093778</td>\n",
       "      <td>5719</td>\n",
       "      <td>0.236264</td>\n",
       "      <td>31</td>\n",
       "      <td>2016-04-06 17:20:05.757</td>\n",
       "    </tr>\n",
       "    <tr>\n",
       "      <th>2</th>\n",
       "      <td>5005072170100</td>\n",
       "      <td>2015</td>\n",
       "      <td>1</td>\n",
       "      <td>20449</td>\n",
       "      <td>26381</td>\n",
       "      <td>1.290088</td>\n",
       "      <td>2196</td>\n",
       "      <td>0.107389</td>\n",
       "      <td>31</td>\n",
       "      <td>2016-04-06 17:20:05.757</td>\n",
       "    </tr>\n",
       "    <tr>\n",
       "      <th>3</th>\n",
       "      <td>5005072170100</td>\n",
       "      <td>2015</td>\n",
       "      <td>2</td>\n",
       "      <td>6820</td>\n",
       "      <td>10390</td>\n",
       "      <td>1.523460</td>\n",
       "      <td>583</td>\n",
       "      <td>0.085484</td>\n",
       "      <td>28</td>\n",
       "      <td>2016-04-06 17:20:05.757</td>\n",
       "    </tr>\n",
       "    <tr>\n",
       "      <th>4</th>\n",
       "      <td>5005072170100</td>\n",
       "      <td>2015</td>\n",
       "      <td>3</td>\n",
       "      <td>7349</td>\n",
       "      <td>7005</td>\n",
       "      <td>0.953191</td>\n",
       "      <td>122</td>\n",
       "      <td>0.016601</td>\n",
       "      <td>13</td>\n",
       "      <td>2016-06-16 14:07:33.203</td>\n",
       "    </tr>\n",
       "  </tbody>\n",
       "</table>\n",
       "</div>"
      ],
      "text/plain": [
       "             API  Year  Month  Liquid    Gas  RatioGasOil  Water  \\\n",
       "0  5005072170100  2014     11    9783  11470     1.172442  10558   \n",
       "1  5005072170100  2014     12   24206  26476     1.093778   5719   \n",
       "2  5005072170100  2015      1   20449  26381     1.290088   2196   \n",
       "3  5005072170100  2015      2    6820  10390     1.523460    583   \n",
       "4  5005072170100  2015      3    7349   7005     0.953191    122   \n",
       "\n",
       "   PercentWater  DaysOn              _LastUpdate  \n",
       "0      1.079219      14  2016-04-06 17:20:05.757  \n",
       "1      0.236264      31  2016-04-06 17:20:05.757  \n",
       "2      0.107389      31  2016-04-06 17:20:05.757  \n",
       "3      0.085484      28  2016-04-06 17:20:05.757  \n",
       "4      0.016601      13  2016-06-16 14:07:33.203  "
      ]
     },
     "execution_count": 128,
     "metadata": {},
     "output_type": "execute_result"
    }
   ],
   "source": [
    "df = pd.read_csv('./data_for_lab5/production.csv')\n",
    "df.head()"
   ]
  },
  {
   "cell_type": "code",
   "execution_count": 129,
   "metadata": {},
   "outputs": [
    {
     "data": {
      "text/html": [
       "<div>\n",
       "<style scoped>\n",
       "    .dataframe tbody tr th:only-of-type {\n",
       "        vertical-align: middle;\n",
       "    }\n",
       "\n",
       "    .dataframe tbody tr th {\n",
       "        vertical-align: top;\n",
       "    }\n",
       "\n",
       "    .dataframe thead th {\n",
       "        text-align: right;\n",
       "    }\n",
       "</style>\n",
       "<table border=\"1\" class=\"dataframe\">\n",
       "  <thead>\n",
       "    <tr style=\"text-align: right;\">\n",
       "      <th></th>\n",
       "      <th></th>\n",
       "      <th>Liquid</th>\n",
       "      <th>Gas</th>\n",
       "      <th>Water</th>\n",
       "    </tr>\n",
       "    <tr>\n",
       "      <th>API</th>\n",
       "      <th></th>\n",
       "      <th></th>\n",
       "      <th></th>\n",
       "      <th></th>\n",
       "    </tr>\n",
       "  </thead>\n",
       "  <tbody>\n",
       "    <tr>\n",
       "      <th rowspan=\"5\" valign=\"top\">5005072170100</th>\n",
       "      <th>0</th>\n",
       "      <td>9783</td>\n",
       "      <td>11470</td>\n",
       "      <td>10558</td>\n",
       "    </tr>\n",
       "    <tr>\n",
       "      <th>1</th>\n",
       "      <td>24206</td>\n",
       "      <td>26476</td>\n",
       "      <td>5719</td>\n",
       "    </tr>\n",
       "    <tr>\n",
       "      <th>2</th>\n",
       "      <td>20449</td>\n",
       "      <td>26381</td>\n",
       "      <td>2196</td>\n",
       "    </tr>\n",
       "    <tr>\n",
       "      <th>3</th>\n",
       "      <td>6820</td>\n",
       "      <td>10390</td>\n",
       "      <td>583</td>\n",
       "    </tr>\n",
       "    <tr>\n",
       "      <th>4</th>\n",
       "      <td>7349</td>\n",
       "      <td>7005</td>\n",
       "      <td>122</td>\n",
       "    </tr>\n",
       "  </tbody>\n",
       "</table>\n",
       "</div>"
      ],
      "text/plain": [
       "                 Liquid    Gas  Water\n",
       "API                                  \n",
       "5005072170100 0    9783  11470  10558\n",
       "              1   24206  26476   5719\n",
       "              2   20449  26381   2196\n",
       "              3    6820  10390    583\n",
       "              4    7349   7005    122"
      ]
     },
     "execution_count": 129,
     "metadata": {},
     "output_type": "execute_result"
    }
   ],
   "source": [
    "input_params = df.groupby('API')[['Liquid', 'Gas', 'Water']].apply(lambda df_: df_.reset_index(drop=True))\n",
    "input_params.head()"
   ]
  },
  {
   "cell_type": "code",
   "execution_count": 130,
   "metadata": {},
   "outputs": [
    {
     "data": {
      "text/html": [
       "<div>\n",
       "<style scoped>\n",
       "    .dataframe tbody tr th:only-of-type {\n",
       "        vertical-align: middle;\n",
       "    }\n",
       "\n",
       "    .dataframe tbody tr th {\n",
       "        vertical-align: top;\n",
       "    }\n",
       "\n",
       "    .dataframe thead tr th {\n",
       "        text-align: left;\n",
       "    }\n",
       "\n",
       "    .dataframe thead tr:last-of-type th {\n",
       "        text-align: right;\n",
       "    }\n",
       "</style>\n",
       "<table border=\"1\" class=\"dataframe\">\n",
       "  <thead>\n",
       "    <tr>\n",
       "      <th></th>\n",
       "      <th colspan=\"10\" halign=\"left\">Liquid</th>\n",
       "      <th>...</th>\n",
       "      <th colspan=\"10\" halign=\"left\">Water</th>\n",
       "    </tr>\n",
       "    <tr>\n",
       "      <th></th>\n",
       "      <th>0</th>\n",
       "      <th>1</th>\n",
       "      <th>2</th>\n",
       "      <th>3</th>\n",
       "      <th>4</th>\n",
       "      <th>5</th>\n",
       "      <th>6</th>\n",
       "      <th>7</th>\n",
       "      <th>8</th>\n",
       "      <th>9</th>\n",
       "      <th>...</th>\n",
       "      <th>14</th>\n",
       "      <th>15</th>\n",
       "      <th>16</th>\n",
       "      <th>17</th>\n",
       "      <th>18</th>\n",
       "      <th>19</th>\n",
       "      <th>20</th>\n",
       "      <th>21</th>\n",
       "      <th>22</th>\n",
       "      <th>23</th>\n",
       "    </tr>\n",
       "    <tr>\n",
       "      <th>API</th>\n",
       "      <th></th>\n",
       "      <th></th>\n",
       "      <th></th>\n",
       "      <th></th>\n",
       "      <th></th>\n",
       "      <th></th>\n",
       "      <th></th>\n",
       "      <th></th>\n",
       "      <th></th>\n",
       "      <th></th>\n",
       "      <th></th>\n",
       "      <th></th>\n",
       "      <th></th>\n",
       "      <th></th>\n",
       "      <th></th>\n",
       "      <th></th>\n",
       "      <th></th>\n",
       "      <th></th>\n",
       "      <th></th>\n",
       "      <th></th>\n",
       "      <th></th>\n",
       "    </tr>\n",
       "  </thead>\n",
       "  <tbody>\n",
       "    <tr>\n",
       "      <th>5005072170100</th>\n",
       "      <td>9783</td>\n",
       "      <td>24206</td>\n",
       "      <td>20449</td>\n",
       "      <td>6820</td>\n",
       "      <td>7349</td>\n",
       "      <td>16552</td>\n",
       "      <td>13844</td>\n",
       "      <td>10655</td>\n",
       "      <td>6135</td>\n",
       "      <td>11105</td>\n",
       "      <td>...</td>\n",
       "      <td>357</td>\n",
       "      <td>270</td>\n",
       "      <td>242</td>\n",
       "      <td>236</td>\n",
       "      <td>250</td>\n",
       "      <td>200</td>\n",
       "      <td>241</td>\n",
       "      <td>215</td>\n",
       "      <td>194</td>\n",
       "      <td>188</td>\n",
       "    </tr>\n",
       "    <tr>\n",
       "      <th>5123377130000</th>\n",
       "      <td>2341</td>\n",
       "      <td>4689</td>\n",
       "      <td>3056</td>\n",
       "      <td>1979</td>\n",
       "      <td>2037</td>\n",
       "      <td>2260</td>\n",
       "      <td>1961</td>\n",
       "      <td>1549</td>\n",
       "      <td>1364</td>\n",
       "      <td>1380</td>\n",
       "      <td>...</td>\n",
       "      <td>193</td>\n",
       "      <td>118</td>\n",
       "      <td>111</td>\n",
       "      <td>111</td>\n",
       "      <td>91</td>\n",
       "      <td>100</td>\n",
       "      <td>137</td>\n",
       "      <td>109</td>\n",
       "      <td>113</td>\n",
       "      <td>55</td>\n",
       "    </tr>\n",
       "    <tr>\n",
       "      <th>5123379280000</th>\n",
       "      <td>6326</td>\n",
       "      <td>6405</td>\n",
       "      <td>6839</td>\n",
       "      <td>6584</td>\n",
       "      <td>4775</td>\n",
       "      <td>3917</td>\n",
       "      <td>3840</td>\n",
       "      <td>3031</td>\n",
       "      <td>3137</td>\n",
       "      <td>2669</td>\n",
       "      <td>...</td>\n",
       "      <td>218</td>\n",
       "      <td>256</td>\n",
       "      <td>203</td>\n",
       "      <td>207</td>\n",
       "      <td>225</td>\n",
       "      <td>180</td>\n",
       "      <td>194</td>\n",
       "      <td>202</td>\n",
       "      <td>182</td>\n",
       "      <td>208</td>\n",
       "    </tr>\n",
       "    <tr>\n",
       "      <th>5123379400000</th>\n",
       "      <td>8644</td>\n",
       "      <td>13977</td>\n",
       "      <td>9325</td>\n",
       "      <td>6445</td>\n",
       "      <td>5326</td>\n",
       "      <td>4538</td>\n",
       "      <td>3403</td>\n",
       "      <td>2534</td>\n",
       "      <td>2685</td>\n",
       "      <td>2597</td>\n",
       "      <td>...</td>\n",
       "      <td>197</td>\n",
       "      <td>156</td>\n",
       "      <td>193</td>\n",
       "      <td>226</td>\n",
       "      <td>135</td>\n",
       "      <td>190</td>\n",
       "      <td>162</td>\n",
       "      <td>181</td>\n",
       "      <td>189</td>\n",
       "      <td>34</td>\n",
       "    </tr>\n",
       "    <tr>\n",
       "      <th>5123385820100</th>\n",
       "      <td>1753</td>\n",
       "      <td>4402</td>\n",
       "      <td>1187</td>\n",
       "      <td>1204</td>\n",
       "      <td>1176</td>\n",
       "      <td>1523</td>\n",
       "      <td>1169</td>\n",
       "      <td>782</td>\n",
       "      <td>634</td>\n",
       "      <td>597</td>\n",
       "      <td>...</td>\n",
       "      <td>124</td>\n",
       "      <td>0</td>\n",
       "      <td>0</td>\n",
       "      <td>0</td>\n",
       "      <td>0</td>\n",
       "      <td>0</td>\n",
       "      <td>119</td>\n",
       "      <td>568</td>\n",
       "      <td>521</td>\n",
       "      <td>289</td>\n",
       "    </tr>\n",
       "  </tbody>\n",
       "</table>\n",
       "<p>5 rows × 72 columns</p>\n",
       "</div>"
      ],
      "text/plain": [
       "              Liquid                                                       \\\n",
       "                  0      1      2     3     4      5      6      7     8    \n",
       "API                                                                         \n",
       "5005072170100   9783  24206  20449  6820  7349  16552  13844  10655  6135   \n",
       "5123377130000   2341   4689   3056  1979  2037   2260   1961   1549  1364   \n",
       "5123379280000   6326   6405   6839  6584  4775   3917   3840   3031  3137   \n",
       "5123379400000   8644  13977   9325  6445  5326   4538   3403   2534  2685   \n",
       "5123385820100   1753   4402   1187  1204  1176   1523   1169    782   634   \n",
       "\n",
       "                      ... Water                                               \n",
       "                  9   ...    14   15   16   17   18   19   20   21   22   23  \n",
       "API                   ...                                                     \n",
       "5005072170100  11105  ...   357  270  242  236  250  200  241  215  194  188  \n",
       "5123377130000   1380  ...   193  118  111  111   91  100  137  109  113   55  \n",
       "5123379280000   2669  ...   218  256  203  207  225  180  194  202  182  208  \n",
       "5123379400000   2597  ...   197  156  193  226  135  190  162  181  189   34  \n",
       "5123385820100    597  ...   124    0    0    0    0    0  119  568  521  289  \n",
       "\n",
       "[5 rows x 72 columns]"
      ]
     },
     "execution_count": 130,
     "metadata": {},
     "output_type": "execute_result"
    }
   ],
   "source": [
    "df_prod = input_params.unstack()\n",
    "df_prod.head()"
   ]
  },
  {
   "cell_type": "code",
   "execution_count": 131,
   "metadata": {},
   "outputs": [
    {
     "name": "stdout",
     "output_type": "stream",
     "text": [
      "(40, 24, 3) (10, 24, 3)\n"
     ]
    }
   ],
   "source": [
    "data = df_prod.values\n",
    "data = data / data.max()\n",
    "data = data[:, :, np.newaxis]\n",
    "\n",
    "data_tr = data[:40]\n",
    "data_tst = data[40:]\n",
    "data_tr = data_tr.reshape(40, 24, 3)\n",
    "data_tst = data_tst.reshape(10, 24, 3)\n",
    "\n",
    "print(data_tr.shape, data_tst.shape)"
   ]
  },
  {
   "cell_type": "code",
   "execution_count": 132,
   "metadata": {},
   "outputs": [
    {
     "name": "stdout",
     "output_type": "stream",
     "text": [
      "(440, 12, 3) (440, 12, 3)\n"
     ]
    }
   ],
   "source": [
    "x_data = [data_tr[:, i:i+12] for i in range(11)]\n",
    "y_data = [data_tr[:, i+1:i+13] for i in range(11)]\n",
    "\n",
    "x_data = np.concatenate(x_data, axis=0)\n",
    "y_data = np.concatenate(y_data, axis=0)\n",
    "print(x_data.shape, y_data.shape)"
   ]
  },
  {
   "cell_type": "code",
   "execution_count": 133,
   "metadata": {},
   "outputs": [
    {
     "name": "stdout",
     "output_type": "stream",
     "text": [
      "Model: \"functional_3\"\n",
      "_________________________________________________________________\n",
      "Layer (type)                 Output Shape              Param #   \n",
      "=================================================================\n",
      "input_2 (InputLayer)         [(None, 12, 3)]           0         \n",
      "_________________________________________________________________\n",
      "lstm_9 (LSTM)                (None, 12, 32)            4608      \n",
      "_________________________________________________________________\n",
      "lstm_10 (LSTM)               (None, 12, 32)            8320      \n",
      "_________________________________________________________________\n",
      "dense_6 (Dense)              (None, 12, 3)             99        \n",
      "=================================================================\n",
      "Total params: 13,027\n",
      "Trainable params: 13,027\n",
      "Non-trainable params: 0\n",
      "_________________________________________________________________\n"
     ]
    }
   ],
   "source": [
    "timesteps = 12\n",
    "inp = Input(shape=(timesteps, 3))\n",
    "lstm = LSTM(units=32, return_sequences=True)(inp)\n",
    "lstm = LSTM(units=32, return_sequences=True)(lstm)\n",
    "out = Dense(3, activation=\"relu\")(lstm)\n",
    "\n",
    "model = Model(inp, out)\n",
    "model.summary()\n",
    "model.compile(optimizer='adam', loss='mse', metrics=['mae'])"
   ]
  },
  {
   "cell_type": "code",
   "execution_count": 134,
   "metadata": {},
   "outputs": [
    {
     "name": "stdout",
     "output_type": "stream",
     "text": [
      "Epoch 1/20\n",
      "14/14 [==============================] - 0s 9ms/step - loss: 0.0049 - mae: 0.0440\n",
      "Epoch 2/20\n",
      "14/14 [==============================] - 0s 7ms/step - loss: 0.0039 - mae: 0.0395\n",
      "Epoch 3/20\n",
      "14/14 [==============================] - 0s 7ms/step - loss: 0.0035 - mae: 0.0382\n",
      "Epoch 4/20\n",
      "14/14 [==============================] - 0s 7ms/step - loss: 0.0032 - mae: 0.0355\n",
      "Epoch 5/20\n",
      "14/14 [==============================] - 0s 7ms/step - loss: 0.0030 - mae: 0.0360\n",
      "Epoch 6/20\n",
      "14/14 [==============================] - 0s 7ms/step - loss: 0.0029 - mae: 0.0341\n",
      "Epoch 7/20\n",
      "14/14 [==============================] - 0s 7ms/step - loss: 0.0028 - mae: 0.0327\n",
      "Epoch 8/20\n",
      "14/14 [==============================] - 0s 7ms/step - loss: 0.0027 - mae: 0.0323\n",
      "Epoch 9/20\n",
      "14/14 [==============================] - 0s 7ms/step - loss: 0.0026 - mae: 0.0312\n",
      "Epoch 10/20\n",
      "14/14 [==============================] - 0s 7ms/step - loss: 0.0026 - mae: 0.0312\n",
      "Epoch 11/20\n",
      "14/14 [==============================] - 0s 7ms/step - loss: 0.0026 - mae: 0.0304\n",
      "Epoch 12/20\n",
      "14/14 [==============================] - 0s 7ms/step - loss: 0.0025 - mae: 0.0300\n",
      "Epoch 13/20\n",
      "14/14 [==============================] - 0s 7ms/step - loss: 0.0025 - mae: 0.0301\n",
      "Epoch 14/20\n",
      "14/14 [==============================] - 0s 7ms/step - loss: 0.0025 - mae: 0.0296\n",
      "Epoch 15/20\n",
      "14/14 [==============================] - 0s 7ms/step - loss: 0.0024 - mae: 0.0292\n",
      "Epoch 16/20\n",
      "14/14 [==============================] - 0s 7ms/step - loss: 0.0024 - mae: 0.0289\n",
      "Epoch 17/20\n",
      "14/14 [==============================] - 0s 7ms/step - loss: 0.0024 - mae: 0.0285\n",
      "Epoch 18/20\n",
      "14/14 [==============================] - 0s 7ms/step - loss: 0.0023 - mae: 0.0285\n",
      "Epoch 19/20\n",
      "14/14 [==============================] - 0s 7ms/step - loss: 0.0023 - mae: 0.0279\n",
      "Epoch 20/20\n",
      "14/14 [==============================] - 0s 7ms/step - loss: 0.0022 - mae: 0.0275\n"
     ]
    },
    {
     "data": {
      "text/plain": [
       "<tensorflow.python.keras.callbacks.History at 0x1aa167336c8>"
      ]
     },
     "execution_count": 134,
     "metadata": {},
     "output_type": "execute_result"
    }
   ],
   "source": [
    "model.fit(x_data, y_data, epochs=20)"
   ]
  },
  {
   "cell_type": "code",
   "execution_count": 135,
   "metadata": {},
   "outputs": [
    {
     "name": "stdout",
     "output_type": "stream",
     "text": [
      "(10, 0, 3)\n"
     ]
    }
   ],
   "source": [
    "x_tst = data_tst[:, :12]\n",
    "predicts = np.zeros((x_tst.shape[0], 0, x_tst.shape[2]))\n",
    "print(predicts.shape)\n",
    "for i in range(12):\n",
    "    x = np.concatenate((x_tst[:, i:], predicts), axis=1)\n",
    "    pred = model.predict(x)\n",
    "    last_pred = pred[:, -1:]  # Нас интересует только последний месяц\n",
    "    predicts = np.concatenate((predicts, last_pred), axis=1)"
   ]
  },
  {
   "cell_type": "code",
   "execution_count": 136,
   "metadata": {},
   "outputs": [
    {
     "data": {
      "image/png": "[encoded data removed]",
      "text/plain": [
       "<Figure size 720x432 with 4 Axes>"
      ]
     },
     "metadata": {
      "needs_background": "light"
     },
     "output_type": "display_data"
    }
   ],
   "source": [
    "plt.figure(figsize=(10, 6))\n",
    "for i in range(4):\n",
    "    plt.subplot(2, 2, i+1)\n",
    "    plt.plot(np.arange(x_tst.shape[1]), x_tst[i, :, 0], label='Actual')\n",
    "    plt.plot(np.arange(predicts.shape[1])+x_tst.shape[1], predicts[i, :, 0], label='Prediction')\n",
    "    plt.legend()\n",
    "plt.show()"
   ]
  },
  {
   "cell_type": "code",
   "execution_count": 137,
   "metadata": {},
   "outputs": [
    {
     "name": "stdout",
     "output_type": "stream",
     "text": [
      "джоан роулинг    гарри поттер и орден феникса       глава 1. дадли досталось     самый пока что жаркий день знойного лета клонился к вечеру  и большие прямоугольные дома тисовой улицы окутывала сонная тишина. машины  обычно сверкавшие чистотой  стояли пыльные  а лужайки были уже не изумрудно зелеными  а иссохшими  желтоватыми из за нехватки воды жителям запретили пользоваться шлангами. лишенные таких важных занятий  как мытье машин и стрижка газонов  обитатели тисовой сидели по комнатам  где было чуть прохладней  широко распахнув окна в несбыточной надежде на освежающее дуновение. единственным  кто не находился дома  был подросток  лежавший лицом вверх на цветочной клумбе у дома номер четыре.    это был худой  черноволосый парнишка в очках  чуть болезненный и угловатый на вид    посмотришь  и сразу ясно  что он сильно вытянулся за короткое время. джинсы рваные и грязные  футболка мешковатая и выцветшая  кроссовки скоро запросят каши. одним словом  наружность гарри поттера не красила его в глазах соседей  которые считали  что нерях надо отдавать под суд. но нынешним вечером  укрытый под большим кустом гортензии  он был совершенно невидим для прохожих. обнаружить его могли только дядя вернон или тетя петунья  если бы кому нибудь из них вздумалось высунуть голову из окна гостиной и поглядеть вниз   на клумбу.    в целом гарри был доволен этим укрытием. лежать на твердой  горячей земле было  может  и не очень удобно  зато никто не испепелял его взглядом  не скрипел зубами так  что теленовостей не услышишь  и не забрасывал его гадкими вопросами  как случалось всякий раз  когда он садился в гостиной перед экраном вместе с дядей и тетей.    вдруг  точно эта мысль влетела в открытое окно  вернон дурсль  дядя гарри  сказал      хорошо  что мальчишка перестал тут ошиваться. где он  кстати.      не знаю    равнодушно ответила тетя петунья.   в доме его нет.    дядя вернон крякнул. новости  вишь ты  его интересуют    язвительно проговорил он.   хотел бы я знать  что по правде у\n",
      "2000\n"
     ]
    }
   ],
   "source": [
    "text_name = \"data_for_lab5/potter_short.txt\"\n",
    "with codecs.open(text_name, encoding= 'utf-8', mode='r') as f:\n",
    "    short_text = f.read(2000)\n",
    "short_text = short_text.lower()\n",
    "print(short_text)\n",
    "print(len(short_text))"
   ]
  },
  {
   "cell_type": "code",
   "execution_count": 141,
   "metadata": {},
   "outputs": [
    {
     "name": "stdout",
     "output_type": "stream",
     "text": [
      "Total characters: 2000\n",
      "Encoding size: 34\n",
      "{0: ' ', 1: '.', 2: '1', 3: 'а', 4: 'б', 5: 'в', 6: 'г', 7: 'д', 8: 'е', 9: 'ж', 10: 'з', 11: 'и', 12: 'й', 13: 'к', 14: 'л', 15: 'м', 16: 'н', 17: 'о', 18: 'п', 19: 'р', 20: 'с', 21: 'т', 22: 'у', 23: 'ф', 24: 'х', 25: 'ц', 26: 'ч', 27: 'ш', 28: 'щ', 29: 'ы', 30: 'ь', 31: 'э', 32: 'ю', 33: 'я'}\n"
     ]
    }
   ],
   "source": [
    "chars = sorted(list(set(short_text)))\n",
    "char_to_int = dict((c, i) for i, c in enumerate(chars))\n",
    "int_to_char = dict((i, c) for i, c in enumerate(chars))\n",
    "\n",
    "char_to_index = {v:i for i,v in enumerate(chars)}\n",
    "index_to_char = {i:v for i,v in enumerate(chars)}\n",
    "n_chars = len(short_text)\n",
    "encoding_size = len(chars)\n",
    "\n",
    "print(\"Total characters:\", n_chars)\n",
    "print(\"Encoding size:\", encoding_size)\n",
    "\n",
    "print(int_to_char)"
   ]
  },
  {
   "cell_type": "code",
   "execution_count": 225,
   "metadata": {},
   "outputs": [
    {
     "name": "stdout",
     "output_type": "stream",
     "text": [
      "Alphabet size: 36\n",
      "абвгдежзийклмнопрстуфхцчшщъыьэюяё 1.\n"
     ]
    }
   ],
   "source": [
    "alphabet = [chr(i) for i in range(ord('а'), ord('я')+1)] + ['ё', ' ','1','.']\n",
    "print(f'Alphabet size: {len(alphabet)}')\n",
    "print(''.join(alphabet))"
   ]
  },
  {
   "cell_type": "code",
   "execution_count": 235,
   "metadata": {},
   "outputs": [
    {
     "name": "stdout",
     "output_type": "stream",
     "text": [
      "о чуть прохладней  широко распахнув окна в несбыто\n",
      "ч\n"
     ]
    }
   ],
   "source": [
    "sentence_len = 50\n",
    "#sentences_x = [short_text[i:i+sentence_len] for i in range(0,len(short_text), sentence_len)]\n",
    "#sentences_y = [short_text[i] for i in range(sentence_len,len(short_text), sentence_len)]\n",
    "sentence_x = []\n",
    "sentence_y = []\n",
    "for i in range(0, len(short_text) - sentence_len, sentence_len):\n",
    "    seq_in = short_text[i:i + sentence_len]\n",
    "    seq_out = short_text[i + sentence_len]\n",
    "    #sentence_x.append([char_to_int[char] for char in seq_in])\n",
    "    #sentence_y.append(char_to_int[seq_out])\n",
    "    sentence_x.append(seq_in)\n",
    "    sentence_y.append(seq_out)\n",
    "n_sentences = len(sentences_x)\n",
    "#print(n_sentences)\n",
    "#print(len(sentences_y))\n",
    "print(sentence_x[10])\n",
    "print(sentence_y[10])"
   ]
  },
  {
   "cell_type": "code",
   "execution_count": 264,
   "metadata": {},
   "outputs": [],
   "source": [
    "def encode_char(ch, alphabet):\n",
    "    # Create encoder vector\n",
    "    vec = [0] * len(alphabet)\n",
    "    vec[alphabet.index(ch)] = 1\n",
    "    return vec\n",
    "\n",
    "def encode_line(line, alphabet):\n",
    "    return [encode_char(ch, alphabet) for ch in line]\n",
    "\n",
    "def encline2str(encline, alphabet):\n",
    "    # encline - encoded 2d array\n",
    "    ixs = np.max(encline.argmax(axis=1))  # index where 1 or max prob\n",
    "    print(ixs)\n",
    "    chars = alphabet[ixs]  # encoded indices to char\n",
    "    return ''.join(chars)"
   ]
  },
  {
   "cell_type": "code",
   "execution_count": 353,
   "metadata": {},
   "outputs": [
    {
     "name": "stdout",
     "output_type": "stream",
     "text": [
      "(39, 50, 36)\n",
      "(39, 36)\n"
     ]
    }
   ],
   "source": [
    "encoded_x = [encode_line(line, alphabet) for line in sentence_x]\n",
    "encoded_y = [encode_char(line, alphabet) for line in sentence_y]\n",
    "encoded_x = np.array(encoded_x)\n",
    "print(encoded_x.shape)\n",
    "encoded_y = np.array(encoded_y)\n",
    "print(encoded_y.shape)"
   ]
  },
  {
   "cell_type": "markdown",
   "metadata": {},
   "source": [
    "# Define RNN"
   ]
  },
  {
   "cell_type": "code",
   "execution_count": 354,
   "metadata": {},
   "outputs": [
    {
     "name": "stdout",
     "output_type": "stream",
     "text": [
      "Model: \"sequential_51\"\n",
      "_________________________________________________________________\n",
      "Layer (type)                 Output Shape              Param #   \n",
      "=================================================================\n",
      "lstm_60 (LSTM)               (None, 512)               1124352   \n",
      "_________________________________________________________________\n",
      "dropout_41 (Dropout)         (None, 512)               0         \n",
      "_________________________________________________________________\n",
      "dense_51 (Dense)             (None, 36)                18468     \n",
      "=================================================================\n",
      "Total params: 1,142,820\n",
      "Trainable params: 1,142,820\n",
      "Non-trainable params: 0\n",
      "_________________________________________________________________\n",
      "Epoch 1/25\n",
      "1/1 [==============================] - 0s 2ms/step - loss: 3.5833\n",
      "Epoch 2/25\n",
      "1/1 [==============================] - 0s 2ms/step - loss: 3.5823\n",
      "Epoch 3/25\n",
      "1/1 [==============================] - 0s 1ms/step - loss: 3.5813\n",
      "Epoch 4/25\n",
      "1/1 [==============================] - 0s 998us/step - loss: 3.5805\n",
      "Epoch 5/25\n",
      "1/1 [==============================] - 0s 1ms/step - loss: 3.5795\n",
      "Epoch 6/25\n",
      "1/1 [==============================] - 0s 2ms/step - loss: 3.5785\n",
      "Epoch 7/25\n",
      "1/1 [==============================] - 0s 2ms/step - loss: 3.5775\n",
      "Epoch 8/25\n",
      "1/1 [==============================] - 0s 2ms/step - loss: 3.5767\n",
      "Epoch 9/25\n",
      "1/1 [==============================] - 0s 1ms/step - loss: 3.5757\n",
      "Epoch 10/25\n",
      "1/1 [==============================] - 0s 2ms/step - loss: 3.5747\n",
      "Epoch 11/25\n",
      "1/1 [==============================] - 0s 2ms/step - loss: 3.5739\n",
      "Epoch 12/25\n",
      "1/1 [==============================] - 0s 928us/step - loss: 3.5728\n",
      "Epoch 13/25\n",
      "1/1 [==============================] - 0s 2ms/step - loss: 3.5720\n",
      "Epoch 14/25\n",
      "1/1 [==============================] - 0s 1ms/step - loss: 3.5708\n",
      "Epoch 15/25\n",
      "1/1 [==============================] - 0s 1ms/step - loss: 3.5699\n",
      "Epoch 16/25\n",
      "1/1 [==============================] - 0s 998us/step - loss: 3.5690\n",
      "Epoch 17/25\n",
      "1/1 [==============================] - 0s 2ms/step - loss: 3.5680\n",
      "Epoch 18/25\n",
      "1/1 [==============================] - 0s 951us/step - loss: 3.5672\n",
      "Epoch 19/25\n",
      "1/1 [==============================] - 0s 2ms/step - loss: 3.5662\n",
      "Epoch 20/25\n",
      "1/1 [==============================] - 0s 736us/step - loss: 3.5652\n",
      "Epoch 21/25\n",
      "1/1 [==============================] - 0s 1ms/step - loss: 3.5642\n",
      "Epoch 22/25\n",
      "1/1 [==============================] - 0s 1ms/step - loss: 3.5635\n",
      "Epoch 23/25\n",
      "1/1 [==============================] - 0s 1ms/step - loss: 3.5624\n",
      "Epoch 24/25\n",
      "1/1 [==============================] - 0s 872us/step - loss: 3.5615\n",
      "Epoch 25/25\n",
      "1/1 [==============================] - 0s 997us/step - loss: 3.5607\n"
     ]
    },
    {
     "data": {
      "text/plain": [
       "<tensorflow.python.keras.callbacks.History at 0x1aa4d8aee08>"
      ]
     },
     "execution_count": 354,
     "metadata": {},
     "output_type": "execute_result"
    }
   ],
   "source": [
    "from keras.models import Sequential\n",
    "from keras.layers import LSTM, Dense, Dropout\n",
    "\n",
    "model_rnn = Sequential()\n",
    "model_rnn.add(LSTM(512, activation='softmax', input_shape=(encoded_x.shape[1], encoded_x.shape[2])))\n",
    "#model_rnn.add(LSTM(32, activation='softmax',input_shape = encoded_y.shape[1]))\n",
    "model_rnn.add(Dropout(0.3))\n",
    "model_rnn.add(Dense(encoded_y.shape[1], activation=\"sigmoid\"))\n",
    "model_rnn.compile(optimizer='adam', loss='categorical_crossentropy')\n",
    "model_rnn.summary()\n",
    "model_rnn.compile(loss='categorical_crossentropy', optimizer='adam')\n",
    "model_rnn.fit(encoded_x, encoded_y, epochs=25, batch_size=128)\n"
   ]
  },
  {
   "cell_type": "code",
   "execution_count": 347,
   "metadata": {},
   "outputs": [],
   "source": [
    "model_rnn.save_weights('simpleRNN_3pred.h5')"
   ]
  },
  {
   "cell_type": "code",
   "execution_count": 348,
   "metadata": {},
   "outputs": [],
   "source": [
    "def predict_next_char(inp):\n",
    "    print(inp)\n",
    "    index = [encode_line(line, alphabet) for line in inp]\n",
    "    prediction = model_rnn.predict(np.array(index))\n",
    "    return (encline2str(prediction,alphabet))\n",
    "    "
   ]
  },
  {
   "cell_type": "code",
   "execution_count": 351,
   "metadata": {},
   "outputs": [
    {
     "name": "stdout",
     "output_type": "stream",
     "text": [
      "гарр\n",
      "8\n"
     ]
    },
    {
     "data": {
      "text/plain": [
       "'и'"
      ]
     },
     "execution_count": 351,
     "metadata": {},
     "output_type": "execute_result"
    }
   ],
   "source": [
    "predict_next_char('гарр')"
   ]
  },
  {
   "cell_type": "code",
   "execution_count": null,
   "metadata": {},
   "outputs": [],
   "source": []
  }
 ],
 "metadata": {
  "kernelspec": {
   "display_name": "Python 3",
   "language": "python",
   "name": "python3"
  },
  "language_info": {
   "codemirror_mode": {
    "name": "ipython",
    "version": 3
   },
   "file_extension": ".py",
   "mimetype": "text/x-python",
   "name": "python",
   "nbconvert_exporter": "python",
   "pygments_lexer": "ipython3",
   "version": "3.7.6"
  }
 },
 "nbformat": 4,
 "nbformat_minor": 4
}
