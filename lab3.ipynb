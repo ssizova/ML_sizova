{
 "cells": [
  {
   "cell_type": "code",
   "execution_count": 2,
   "metadata": {},
   "outputs": [],
   "source": [
    "import cv2\n",
    "import numpy as np\n",
    "import matplotlib.pyplot as plt\n",
    "import os, sys\n",
    "import random\n",
    "from scipy import ndimage"
   ]
  },
  {
   "cell_type": "code",
   "execution_count": 4,
   "metadata": {},
   "outputs": [],
   "source": [
    "path = 'data/'\n",
    "path_images = os.path.join(path,'nails_segmentation/images')\n",
    "path_labels = os.path.join(path,'nails_segmentation/labels')\n",
    "images = os.listdir(path_images)\n",
    "labels = os.listdir(path_labels)\n",
    "if np.size(images)!= np.size(labels):\n",
    "    print('error in input dataset')\n",
    "else:\n",
    "    pairs = [[images[i], labels[i]] for i in range(np.size(images))]\n",
    "    \n",
    "ESC = 27\n",
    "KEY_a = 97\n",
    "KEY_d = 100"
   ]
  },
  {
   "cell_type": "code",
   "execution_count": 5,
   "metadata": {},
   "outputs": [],
   "source": [
    "window_name = \"Nail_show\"\n",
    "cv2.namedWindow(window_name, cv2.WINDOW_NORMAL)\n",
    "i = 0\n",
    "while True:\n",
    "    image = cv2.imread(os.path.join(path_images,(pairs[i])[0]))\n",
    "    mask = cv2.imread(os.path.join(path_labels,(pairs[i])[1]))\n",
    "    image = cv2.resize(image,(512,512))\n",
    "    mask = cv2.resize(mask,(512,512))\n",
    "    \n",
    "    cv2.resizeWindow(window_name, 1024, 512) \n",
    "    cv2.imshow(window_name, np.hstack([image, mask]))\n",
    "    key = cv2.waitKey(0)\n",
    "    \n",
    "    if key == KEY_a:\n",
    "        i = (i + 1) % len(pairs)\n",
    "    \n",
    "    if key == KEY_d:\n",
    "        i = (i - 1) % len(pairs)\n",
    "    \n",
    "    if key == ESC:\n",
    "        break\n",
    "\n",
    "cv2.destroyWindow(window_name)"
   ]
  },
  {
   "cell_type": "code",
   "execution_count": 13,
   "metadata": {},
   "outputs": [],
   "source": [
    "cv2.namedWindow(window_name, cv2.WINDOW_NORMAL)\n",
    "i = 0\n",
    "while True:\n",
    "    image = cv2.imread(os.path.join(path_images,(pairs[i])[0]))\n",
    "    mask = cv2.imread(os.path.join(path_labels,(pairs[i])[1]))\n",
    "    \n",
    "    image = cv2.resize(image,(512,512))\n",
    "    mask = cv2.resize(mask,(512,512))\n",
    "    \n",
    "    image_gray = cv2.cvtColor(mask, cv2.COLOR_RGB2GRAY)\n",
    "    _, thresh = cv2.threshold(image_gray, 200, 255, cv2.THRESH_BINARY)\n",
    "    contours, hierarchy = cv2.findContours(thresh, cv2.RETR_TREE, cv2.CHAIN_APPROX_SIMPLE)\n",
    "    \n",
    "    cv2.drawContours(image, contours, -1, (255, 0, 0), 3)\n",
    "    cv2.drawContours(mask, contours, -1, (255, 0, 0), 3)\n",
    "    \n",
    "    cv2.resizeWindow(window_name, 1024, 512) \n",
    "    cv2.imshow(window_name, np.hstack([image, mask]))\n",
    "    \n",
    "    key = cv2.waitKey(0)\n",
    "    \n",
    "    if key == KEY_a:\n",
    "        i = (i + 1) % len(pairs)\n",
    "    \n",
    "    if key == KEY_d:\n",
    "        i = (i - 1) % len(pairs)\n",
    "    \n",
    "    if key == ESC:\n",
    "        break\n",
    "\n",
    "cv2.destroyWindow(window_name)\n"
   ]
  },
  {
   "cell_type": "code",
   "execution_count": 12,
   "metadata": {},
   "outputs": [],
   "source": [
    "cap = cv2.VideoCapture(os.path.join(path,'funny_video.mp4'))\n",
    "capture = cv2.VideoCapture(os.path.join(path,'funny_video.mp4'))\n",
    "window_name = \"Cat show\"\n",
    "while True:\n",
    "    \n",
    "    ret, frame = cap.read()\n",
    "    if ret == False:\n",
    "        break\n",
    "    cv2.resizeWindow(window_name, 1024, 1024) \n",
    "    cv2.imshow(window_name, cv2.cvtColor(frame, cv2.COLOR_BGR2GRAY))\n",
    "    \n",
    "    key = cv2.waitKey(20)\n",
    "    \n",
    "    if key == ESC:\n",
    "        break\n",
    "\n",
    "cap.release()\n",
    "cv2.destroyWindow(window_name)\n"
   ]
  },
  {
   "cell_type": "code",
   "execution_count": null,
   "metadata": {},
   "outputs": [],
   "source": []
  }
 ],
 "metadata": {
  "kernelspec": {
   "display_name": "Python 3",
   "language": "python",
   "name": "python3"
  },
  "language_info": {
   "codemirror_mode": {
    "name": "ipython",
    "version": 3
   },
   "file_extension": ".py",
   "mimetype": "text/x-python",
   "name": "python",
   "nbconvert_exporter": "python",
   "pygments_lexer": "ipython3",
   "version": "3.7.6"
  }
 },
 "nbformat": 4,
 "nbformat_minor": 4
}
